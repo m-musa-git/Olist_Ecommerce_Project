
# How do payment methods influence customer purchasing patterns and category preferences?
import pandas as pd

sellers = r"C:\Users\EPF80\OneDrive\Documents\olist_sellers_dataset.csv"
sellers = pd.read_csv(sellers)

category_name_translation = r"C:\Users\EPF80\OneDrive\Documents\product_category_name_translation.csv"
category_name_translation = pd.read_csv(category_name_translation)

orders = r"C:\Users\EPF80\OneDrive\Documents\olist_orders_dataset.csv"
orders = pd.read_csv(orders)

order_items = r"C:\Users\EPF80\OneDrive\Documents\olist_order_items_dataset.csv"
order_items = pd.read_csv(order_items)

payments = r"C:\Users\EPF80\OneDrive\Documents\olist_order_payments_dataset.csv"
payments= pd.read_csv(payments)

order_reviews = r"C:\Users\EPF80\OneDrive\Documents\olist_order_reviews_dataset.csv"
order_reviews = pd.read_csv(order_reviews)

geolocation = r"C:\Users\EPF80\OneDrive\Documents\olist_geolocation_dataset.csv"
geolocation = pd.read_csv(geolocation)

customers = r"C:\Users\EPF80\OneDrive\Documents\olist_customers_dataset.csv"
customers = pd.read_csv(customers)

products = r"C:\Users\EPF80\OneDrive\Documents\olist_products_dataset.csv"
products = pd.read_csv(products)

# Convert dates in orders
orders['order_purchase_timestamp'] = pd.to_datetime(orders['order_purchase_timestamp'], dayfirst=True)

# Merge datasets
full_df = (
    orders.merge(payments, on='order_id')
    .merge(order_items, on='order_id')
    .merge(products, on='product_id')
    .merge(customers, on='customer_id')
    # Filter by delivered orders
    .query("order_status == 'delivered'")
)

# Calculate meaningful metrics
payment_behavior = (
    full_df.groupby(['customer_unique_id', 'payment_type'], as_index=False)
    .agg(
        total_spend=('price', 'sum'),
        order_count=('order_id', 'nunique'),
        favorite_category=('product_category_name', lambda x: x.mode()[0] if len(x.mode()) > 0 else None)
    )
)

# Identify preferred payment method (highest spend)
preferred_payment = (
    payment_behavior.sort_values('total_spend', ascending=False)
    .drop_duplicates('customer_unique_id')
    [['customer_unique_id', 'payment_type', 'total_spend', 'favorite_category']]
)

# Merge with original data to get all transactions
enhanced_df = full_df.merge(
    preferred_payment[['customer_unique_id', 'payment_type']],
    on='customer_unique_id',
    suffixes=('', '_preferred')
)

# Calculate actionable metrics by preferred payment
results = (
    enhanced_df.groupby('payment_type_preferred')
    .agg(
 customers=('customer_unique_id', 'nunique'),
        total_orders=('order_id', 'count'),
        total_revenue=('price', 'sum'),
        avg_order_value=('price', 'mean'),
        avg_orders_per_customer=('customer_unique_id', lambda x: x.count() / x.nunique()),  # Correct,
        top_categories=('product_category_name', lambda x: x.value_counts().index[0]),
        pct_repeat_customers=('customer_unique_id', lambda x: x.duplicated(keep=False).mean())
    )
    .sort_values('avg_order_value', ascending=False)
)

# Calculate avg order value
results['avg_order_value'] = results['total_revenue'] / results['total_orders']

results['avg_order_value'] = results['avg_order_value'].round(2)
results['pct_repeat_customers'] = (results['pct_repeat_customers'] * 100).round(1)

print("Customer Behavior by Preferred Payment Method:")
print(results)

# Calculate % of customers who bought from their top category by payment type
top_category_analysis = (
    enhanced_df.groupby(['payment_type_preferred', 'product_category_name'])
    .agg(customers=('customer_unique_id', 'nunique'))
    .reset_index()
)

# Get the top category for each payment type
top_categories = results['top_categories'].to_dict()

# Calculate percentages
top_category_percentages = []
for payment_type, top_cat in top_categories.items():
    total_customers = results.loc[payment_type, 'customers']
    top_cat_customers = top_category_analysis[
        (top_category_analysis['payment_type_preferred'] == payment_type) &
        (top_category_analysis['product_category_name'] == top_cat)
    ]['customers'].values[0]
    
    percentage = (top_cat_customers / total_customers) * 100
    top_category_percentages.append({
        'payment_type': payment_type,
        'top_category': top_cat,
        'pct_customers_in_top_category': round(percentage, 1)
    })

# Create and display results
top_category_df = pd.DataFrame(top_category_percentages)
print("\nPercentage of Customers Who Bought From Top Category:")
print(top_category_df[['payment_type', 'top_category', 'pct_customers_in_top_category']])
