#How do payment methods influence customer purchasing patterns and category preferences?
import pandas as pd
